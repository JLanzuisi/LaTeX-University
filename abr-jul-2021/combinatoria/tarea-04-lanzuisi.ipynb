{
 "cells": [
  {
   "cell_type": "markdown",
   "id": "18608bbc",
   "metadata": {},
   "source": [
    "# <span style=\"color:#8B0000;font-family:Papirus\">Tarea 4</span>"
   ]
  },
  {
   "cell_type": "markdown",
   "id": "be64fead",
   "metadata": {},
   "source": [
    "### <span style=\"color:#8B0000;font-family:Papirus\">Jhonny Lanzuisi</span>"
   ]
  },
  {
   "cell_type": "markdown",
   "id": "af048303",
   "metadata": {},
   "source": [
    "1. Escribe una función de python que reciba como entrada un digrafo $d$ que sea un torneo. Si $d$ no es un torneo, la función debe mostrar un mensaje de error. Si $d$ es un torneo, la función debe mostrar un camino (dirigido) con todos los vértices de $d$, en forma de lista. \n",
    "2. Construye un digrafo cuyos vértices son las asignaturas de la Licenciatura en Matemáticas de la USB (0500) modalidad Seminario y dados vértices $x$, $y$, se tiene $x\\to y$ si y sólo si $x$ es requisito de $y$. Asígnale a cada lado $xy$ el valor $1$, que indica la cantidad de trimestres que deben transcurrir para ir de la asignatura $x$ a la asignatura $y$. Calcula la cantidad mínima de trimestres necesarios para completar la carrera."
   ]
  },
  {
   "cell_type": "markdown",
   "id": "6ba4fbb4",
   "metadata": {},
   "source": [
    "## Respuestas\n",
    "\n",
    "### Primera pregunta.\n",
    "\n",
    "El siguiente bloque de python define la función `path_from_tournament` que pide el ejercicio.\n",
    "Luego, se define una función que genera un torneo al azar, que puede tener entre 0 y 20 nodos, para probar `path_from_tournament`."
   ]
  },
  {
   "cell_type": "code",
   "execution_count": 1,
   "id": "1597feaa",
   "metadata": {},
   "outputs": [],
   "source": [
    "def path_from_tournament(G):\n",
    "    \"\"\"\n",
    "    Take a graph G and, if G is a tournament,\n",
    "    return a path with all vertices. Otherwise,\n",
    "    raise an error.\n",
    "    \"\"\"\n",
    "\n",
    "    import networkx as nx\n",
    "\n",
    "    # Raise error if G is not a Tournament.\n",
    "    if (not(nx.algorithms.tournament.is_tournament(G))):\n",
    "        class GraphError(Exception):\n",
    "            print(\"Graph is not a tournament\")\n",
    "        raise GraphError\n",
    "\n",
    "    # Print a path with all vertices of G.\n",
    "    # This path always exists because G is a tournament.\n",
    "    print(nx.algorithms.tournament.hamiltonian_path(G))"
   ]
  },
  {
   "cell_type": "code",
   "execution_count": 5,
   "id": "397cc878",
   "metadata": {},
   "outputs": [
    {
     "name": "stdout",
     "output_type": "stream",
     "text": [
      "[1, 0, 2, 3, 4]\n"
     ]
    },
    {
     "data": {
      "image/png": "[encoded data removed]",
      "text/plain": [
       "<Figure size 432x288 with 1 Axes>"
      ]
     },
     "metadata": {},
     "output_type": "display_data"
    }
   ],
   "source": [
    "def test_path_from_tournament():\n",
    "    import networkx as nx\n",
    "    import matplotlib.pyplot as plt\n",
    "    import random\n",
    "\n",
    "    lowerbound = 1\n",
    "    upperbound = 20\n",
    "\n",
    "    vertices = random.randint(lowerbound, upperbound)\n",
    "\n",
    "    G = nx.algorithms.tournament.random_tournament(vertices)\n",
    "    nx.draw(G, with_labels=True)\n",
    "    path_from_tournament(G)\n",
    "\n",
    "test_path_from_tournament()"
   ]
  },
  {
   "cell_type": "markdown",
   "id": "30ec8674",
   "metadata": {},
   "source": [
    "### Segunda pregunta"
   ]
  },
  {
   "cell_type": "code",
   "execution_count": 83,
   "id": "32691e7f",
   "metadata": {},
   "outputs": [],
   "source": [
    "def math_pensum_digraph():\n",
    "    \"\"\"\n",
    "    Docs\n",
    "    \"\"\"\n",
    "\n",
    "    import networkx as nx\n",
    "    import matplotlib.pyplot as plt\n",
    "\n",
    "    edges = [\n",
    "        (\"Mate I\", \"Mate II\"),\n",
    "        (\"Mate I\", \"Física I\"),\n",
    "        (\"Inglés I\", \"Inglés II\"),\n",
    "        (\"Lenguaje I\", \"Lenguaje II\"),\n",
    "        (\"Sociales I\", \"Sociales II\"),\n",
    "        (\"Mate II\", \"Mate III\"),\n",
    "        (\"Mate II\", \"Física II\"),\n",
    "        (\"Física I\", \"Física II\"),\n",
    "        (\"Inglés II\", \"Inglés III\"),\n",
    "        (\"Lenguaje II\", \"Lenguaje III\"),\n",
    "        (\"Sociales II\", \"Sociales III\"),\n",
    "        (\"Mate III\", \"Álgebra I\"),\n",
    "        (\"Mate III\", \"Cálculo I\"),\n",
    "        (\"Mate III\", \"Geometría I\"),\n",
    "        (\"Inglés III\", \"Inglés\\npara\\nmatemáticos I\"),\n",
    "        (\"Álgebra I\", \"Álgebra II\"),\n",
    "        (\"Cálculo I\", \"Cálculo II\"),\n",
    "        (\"Geometría I\", \"Geometría II\"),\n",
    "        (\"Inglés\\npara\\nmatemáticos I\", \"Inglés\\npara\\nmatemáticos II\"),\n",
    "        (\"Álgebra II\", \"Álgebra III\"),\n",
    "        (\"Cálculo II\", \"Cálculo III\"),\n",
    "        (\"Geometría II\", \"Geometría III\"),\n",
    "        (\"Inglés\\npara\\nmatemáticos II\", \"Inglés\\npara\\nmatemáticos III\"),\n",
    "        (\"Intro.\\nTeo.\\nGrupos\", \"Intro.\\nTeo.\\nAnillos\"),\n",
    "    ]\n",
    "\n",
    "    nodes = [\n",
    "        \"Geometría\",\n",
    "        \"Estudio\\nGeneral 1\",\n",
    "        \"Estudio\\nGeneral 2\",\n",
    "        \"Estudio\\nGeneral 3\",\n",
    "        \"Estudio\\nGeneral 4\",\n",
    "        \"Estudio\\nGeneral 5\",\n",
    "        \"Estudio\\nGeneral 6\",\n",
    "        \"Electiva\\nMatemática 1\",\n",
    "        \"Electiva\\nMatemática 2\",\n",
    "        \"Seminario 1\",\n",
    "        \"Seminario 2\"\n",
    "    ]\n",
    "\n",
    "    G = nx.DiGraph()\n",
    "\n",
    "    G.add_edges_from(edges, weight=1)\n",
    "    G.add_nodes_from(nodes)\n",
    "\n",
    "    edgelabels = nx.get_edge_attributes(G,'weight')\n",
    "\n",
    "    pos = nx.drawing.nx_agraph.graphviz_layout(G)\n",
    "\n",
    "    plt.figure(figsize=(20,20))\n",
    "    nx.draw(G, pos=pos, with_labels=True, node_color='white', verticalalignment='center', node_size=3000)\n",
    "    nx.draw_networkx_edge_labels(G, pos, edgelabels)\n",
    "    \n",
    "    plt.savefig('graph.pdf')"
   ]
  },
  {
   "cell_type": "code",
   "execution_count": 84,
   "id": "84d93a93",
   "metadata": {},
   "outputs": [
    {
     "ename": "ImportError",
     "evalue": "requires pygraphviz http://pygraphviz.github.io/",
     "output_type": "error",
     "traceback": [
      "\u001b[1;31m---------------------------------------------------------------------------\u001b[0m",
      "\u001b[1;31mModuleNotFoundError\u001b[0m                       Traceback (most recent call last)",
      "\u001b[1;32mc:\\users\\jhonny lanzuisi\\.virtualenvs\\combinatoria-4k2slxbv\\lib\\site-packages\\networkx\\drawing\\nx_agraph.py\u001b[0m in \u001b[0;36mpygraphviz_layout\u001b[1;34m(G, prog, root, args)\u001b[0m\n\u001b[0;32m    278\u001b[0m     \u001b[1;32mtry\u001b[0m\u001b[1;33m:\u001b[0m\u001b[1;33m\u001b[0m\u001b[1;33m\u001b[0m\u001b[0m\n\u001b[1;32m--> 279\u001b[1;33m         \u001b[1;32mimport\u001b[0m \u001b[0mpygraphviz\u001b[0m\u001b[1;33m\u001b[0m\u001b[1;33m\u001b[0m\u001b[0m\n\u001b[0m\u001b[0;32m    280\u001b[0m     \u001b[1;32mexcept\u001b[0m \u001b[0mImportError\u001b[0m \u001b[1;32mas\u001b[0m \u001b[0me\u001b[0m\u001b[1;33m:\u001b[0m\u001b[1;33m\u001b[0m\u001b[1;33m\u001b[0m\u001b[0m\n",
      "\u001b[1;31mModuleNotFoundError\u001b[0m: No module named 'pygraphviz'",
      "\nThe above exception was the direct cause of the following exception:\n",
      "\u001b[1;31mImportError\u001b[0m                               Traceback (most recent call last)",
      "\u001b[1;32mC:\\Users\\JHONNY~1\\AppData\\Local\\Temp/ipykernel_6504/2619951957.py\u001b[0m in \u001b[0;36m<module>\u001b[1;34m\u001b[0m\n\u001b[1;32m----> 1\u001b[1;33m \u001b[0mmath_pensum_digraph\u001b[0m\u001b[1;33m(\u001b[0m\u001b[1;33m)\u001b[0m\u001b[1;33m\u001b[0m\u001b[1;33m\u001b[0m\u001b[0m\n\u001b[0m",
      "\u001b[1;32mC:\\Users\\JHONNY~1\\AppData\\Local\\Temp/ipykernel_6504/1904409485.py\u001b[0m in \u001b[0;36mmath_pensum_digraph\u001b[1;34m()\u001b[0m\n\u001b[0;32m     55\u001b[0m     \u001b[0medgelabels\u001b[0m \u001b[1;33m=\u001b[0m \u001b[0mnx\u001b[0m\u001b[1;33m.\u001b[0m\u001b[0mget_edge_attributes\u001b[0m\u001b[1;33m(\u001b[0m\u001b[0mG\u001b[0m\u001b[1;33m,\u001b[0m\u001b[1;34m'weight'\u001b[0m\u001b[1;33m)\u001b[0m\u001b[1;33m\u001b[0m\u001b[1;33m\u001b[0m\u001b[0m\n\u001b[0;32m     56\u001b[0m \u001b[1;33m\u001b[0m\u001b[0m\n\u001b[1;32m---> 57\u001b[1;33m     \u001b[0mpos\u001b[0m \u001b[1;33m=\u001b[0m \u001b[0mnx\u001b[0m\u001b[1;33m.\u001b[0m\u001b[0mdrawing\u001b[0m\u001b[1;33m.\u001b[0m\u001b[0mnx_agraph\u001b[0m\u001b[1;33m.\u001b[0m\u001b[0mgraphviz_layout\u001b[0m\u001b[1;33m(\u001b[0m\u001b[0mG\u001b[0m\u001b[1;33m)\u001b[0m\u001b[1;33m\u001b[0m\u001b[1;33m\u001b[0m\u001b[0m\n\u001b[0m\u001b[0;32m     58\u001b[0m \u001b[1;33m\u001b[0m\u001b[0m\n\u001b[0;32m     59\u001b[0m     \u001b[0mplt\u001b[0m\u001b[1;33m.\u001b[0m\u001b[0mfigure\u001b[0m\u001b[1;33m(\u001b[0m\u001b[0mfigsize\u001b[0m\u001b[1;33m=\u001b[0m\u001b[1;33m(\u001b[0m\u001b[1;36m20\u001b[0m\u001b[1;33m,\u001b[0m\u001b[1;36m20\u001b[0m\u001b[1;33m)\u001b[0m\u001b[1;33m)\u001b[0m\u001b[1;33m\u001b[0m\u001b[1;33m\u001b[0m\u001b[0m\n",
      "\u001b[1;32mc:\\users\\jhonny lanzuisi\\.virtualenvs\\combinatoria-4k2slxbv\\lib\\site-packages\\networkx\\drawing\\nx_agraph.py\u001b[0m in \u001b[0;36mgraphviz_layout\u001b[1;34m(G, prog, root, args)\u001b[0m\n\u001b[0;32m    235\u001b[0m     \u001b[0mThis\u001b[0m \u001b[1;32mis\u001b[0m \u001b[0ma\u001b[0m \u001b[0mwrapper\u001b[0m \u001b[1;32mfor\u001b[0m \u001b[0mpygraphviz_layout\u001b[0m\u001b[1;33m.\u001b[0m\u001b[1;33m\u001b[0m\u001b[1;33m\u001b[0m\u001b[0m\n\u001b[0;32m    236\u001b[0m     \"\"\"\n\u001b[1;32m--> 237\u001b[1;33m     \u001b[1;32mreturn\u001b[0m \u001b[0mpygraphviz_layout\u001b[0m\u001b[1;33m(\u001b[0m\u001b[0mG\u001b[0m\u001b[1;33m,\u001b[0m \u001b[0mprog\u001b[0m\u001b[1;33m=\u001b[0m\u001b[0mprog\u001b[0m\u001b[1;33m,\u001b[0m \u001b[0mroot\u001b[0m\u001b[1;33m=\u001b[0m\u001b[0mroot\u001b[0m\u001b[1;33m,\u001b[0m \u001b[0margs\u001b[0m\u001b[1;33m=\u001b[0m\u001b[0margs\u001b[0m\u001b[1;33m)\u001b[0m\u001b[1;33m\u001b[0m\u001b[1;33m\u001b[0m\u001b[0m\n\u001b[0m\u001b[0;32m    238\u001b[0m \u001b[1;33m\u001b[0m\u001b[0m\n\u001b[0;32m    239\u001b[0m \u001b[1;33m\u001b[0m\u001b[0m\n",
      "\u001b[1;32mc:\\users\\jhonny lanzuisi\\.virtualenvs\\combinatoria-4k2slxbv\\lib\\site-packages\\networkx\\drawing\\nx_agraph.py\u001b[0m in \u001b[0;36mpygraphviz_layout\u001b[1;34m(G, prog, root, args)\u001b[0m\n\u001b[0;32m    279\u001b[0m         \u001b[1;32mimport\u001b[0m \u001b[0mpygraphviz\u001b[0m\u001b[1;33m\u001b[0m\u001b[1;33m\u001b[0m\u001b[0m\n\u001b[0;32m    280\u001b[0m     \u001b[1;32mexcept\u001b[0m \u001b[0mImportError\u001b[0m \u001b[1;32mas\u001b[0m \u001b[0me\u001b[0m\u001b[1;33m:\u001b[0m\u001b[1;33m\u001b[0m\u001b[1;33m\u001b[0m\u001b[0m\n\u001b[1;32m--> 281\u001b[1;33m         \u001b[1;32mraise\u001b[0m \u001b[0mImportError\u001b[0m\u001b[1;33m(\u001b[0m\u001b[1;34m\"requires pygraphviz \"\u001b[0m \u001b[1;34m\"http://pygraphviz.github.io/\"\u001b[0m\u001b[1;33m)\u001b[0m \u001b[1;32mfrom\u001b[0m \u001b[0me\u001b[0m\u001b[1;33m\u001b[0m\u001b[1;33m\u001b[0m\u001b[0m\n\u001b[0m\u001b[0;32m    282\u001b[0m     \u001b[1;32mif\u001b[0m \u001b[0mroot\u001b[0m \u001b[1;32mis\u001b[0m \u001b[1;32mnot\u001b[0m \u001b[1;32mNone\u001b[0m\u001b[1;33m:\u001b[0m\u001b[1;33m\u001b[0m\u001b[1;33m\u001b[0m\u001b[0m\n\u001b[0;32m    283\u001b[0m         \u001b[0margs\u001b[0m \u001b[1;33m+=\u001b[0m \u001b[1;34mf\"-Groot={root}\"\u001b[0m\u001b[1;33m\u001b[0m\u001b[1;33m\u001b[0m\u001b[0m\n",
      "\u001b[1;31mImportError\u001b[0m: requires pygraphviz http://pygraphviz.github.io/"
     ]
    }
   ],
   "source": [
    "math_pensum_digraph()"
   ]
  },
  {
   "cell_type": "code",
   "execution_count": null,
   "id": "49dfc4dc",
   "metadata": {},
   "outputs": [],
   "source": []
  }
 ],
 "metadata": {
  "interpreter": {
   "hash": "adad96b414bbf4c0627149e67f9bcf171a97ed2bb401e7dd0604af77151fad1f"
  },
  "kernelspec": {
   "display_name": "Python 3 (ipykernel)",
   "language": "python",
   "name": "python3"
  },
  "language_info": {
   "codemirror_mode": {
    "name": "ipython",
    "version": 3
   },
   "file_extension": ".py",
   "mimetype": "text/x-python",
   "name": "python",
   "nbconvert_exporter": "python",
   "pygments_lexer": "ipython3",
   "version": "3.9.5"
  }
 },
 "nbformat": 4,
 "nbformat_minor": 5
}
