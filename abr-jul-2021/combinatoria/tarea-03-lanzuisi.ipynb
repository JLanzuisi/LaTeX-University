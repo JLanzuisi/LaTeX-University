{
 "cells": [
  {
   "cell_type": "markdown",
   "id": "bcca4140-dd8c-4c49-ad26-0ba9ee9612f8",
   "metadata": {},
   "source": [
    "# <span style=\"color:#8B0000;font-family:Papirus\">Tarea 3</span>"
   ]
  },
  {
   "cell_type": "markdown",
   "id": "5ce36298-83f9-4e1e-841d-d5305ffc1adf",
   "metadata": {},
   "source": [
    "### <span style=\"color:#8B0000;font-family:Papirus\">Jhonny Lanzuisi</span>"
   ]
  },
  {
   "cell_type": "markdown",
   "id": "b73ad54e-7adc-46c7-967b-3b796f300d1d",
   "metadata": {},
   "source": [
    "1. En 1895 G. Tarry dio la siguiente regla para salir de un laberinto: No volver a pasar por el lugar que condujo a una bifurcación por primera vez, a menos que no haya otra alternativa. Explicar la conexión entre la regla de Tarry y el algoritmo de búsqueda en profundidad. \n",
    "2. La versión de Kruskal del algoritmo voraz es la siguiente: elegir los lados en orden de peso creciente rechazando aquellos que al incluirlos completarían un ciclo. Demuestra que el método de Kruskal funciona."
   ]
  },
  {
   "cell_type": "markdown",
   "id": "ad7bc015-74ad-4b37-903f-b78562c3f57a",
   "metadata": {},
   "source": [
    "## Respuestas\n",
    "\n",
    "### Primera pregunta\n",
    "\n",
    "Supongamos que estamos en un vértice $v$. El algoritmo de Tarry\n",
    "nos dice que podemos elegir cualquier lado incidente en $v$ excepto\n",
    "aquel por el cual se llegó a $v$ pro primera vez,\n",
    "este solo debemos elejirlo si no hay otra opción.\n",
    "\n",
    "Si al algoritmo de Tarry añadimos la siguiente condición: \n",
    "no se puede repetir ningún lado que se haya usado antes,\n",
    "a excepción del lado por el cual se llegó a $v$\n",
    "por primera vez, el cual, como dice la regla de Tarry, solo\n",
    "se elegirá si es la única opción.\n",
    "\n",
    "Con esta condición extra el algoritmo de Tarry\n",
    "coincide con el algoritmo de búsqueda profunda:\n",
    "al llegar a un nuevo vértice elegirá un lado por el\n",
    "que no ha pasado antes y, al momento de no existir más opciones,\n",
    "se regresará por aquel lado por el que se llegó a dicho vértice,\n",
    "y seguirá de esta forma hasta volver al primer vértice,\n",
    "habiendo agotado todos sus lados incidentes.\n",
    "\n",
    "### Segunda pregunta\n",
    "\n",
    "Queremos demostrar que el algoritmo de kruskal (AK) \"funciona\"\n",
    "en el siguiente sentido: construye un árbol generador mínimo.\n",
    "Sea $G$ un grafo conexo y ponderado y $Y$ el subgrafo de $G$\n",
    "producido por el AK.\n",
    "\n",
    "Para ver que $Y$ es un árbol generador, notemos que:\n",
    "\n",
    "1. $Y$ posee a todos los vértices de $G$.\n",
    "1. $Y$ no tiene ciclos, puesto que los hemos elegido\n",
    "    evitando formar ciclos. \n",
    "1. $Y$ es conexo. Como el AK pasa por todos los vértices\n",
    "    y debe añadir lados cuando visita un vértice por primera vez,\n",
    "    es imposible que $Y$ tenga más de una componente.\n",
    "    \n",
    "Falta ver que este árbol generador es mínimo.\n",
    "Supongamos que $U$ es un AGM y que $U\\neq Y$.\n",
    "Entonces existe un lado $e\\in U$ de peso mínimo\n",
    "que no esta en $Y$. Más aún, $Y\\cup U$ contiene un ciclo $C$\n",
    "(pues la única razón por la que no se habría elegido $e$\n",
    "es que introduce un ciclo) tal que:\n",
    "- Todo lado de $C$ tiene peso menor o igual que $e$.\n",
    "- Hay un lado $f$ de $C$ que no está en $U$, pues $U$ no tiene ciclos.\n",
    "\n",
    "Consideremos ahora el árbol $Y_2 = Y \\cup\\{e\\}\\setminus\\{f\\}$:\n",
    "- $Y_2$ es generador.\n",
    "- $Y_2$ tiene mas elementos en común con $U$ que $Y$.\n",
    "- $p(Y_2)\\geq p(Y)$.\n",
    "\n",
    "Podemos repetir el proceso anterior con $Y_2$ para hallar un árbol\n",
    "generador $Y_3$ que tiene más lado en común con $U$ que $Y_2$.\n",
    "Siguiendo de esta manera eventualmente llegaremos a $U$ y,\n",
    "$$ p(Y)\\leq p(Y_1)\\leq p(Y_2)\\leq\\dots\\leq p(Y_m)=U. $$\n",
    "\n",
    "Pero $U$ es un AGM, por lo que las desigualdades anteriores han de ser igualdades,\n",
    "$U$ tiene el mismo peso que $Y$, por lo que $Y$ es minimal."
   ]
  }
 ],
 "metadata": {
  "kernelspec": {
   "display_name": "Python 3",
   "language": "python",
   "name": "python3"
  },
  "language_info": {
   "codemirror_mode": {
    "name": "ipython",
    "version": 3
   },
   "file_extension": ".py",
   "mimetype": "text/x-python",
   "name": "python",
   "nbconvert_exporter": "python",
   "pygments_lexer": "ipython3",
   "version": "3.9.5"
  }
 },
 "nbformat": 4,
 "nbformat_minor": 5
}
