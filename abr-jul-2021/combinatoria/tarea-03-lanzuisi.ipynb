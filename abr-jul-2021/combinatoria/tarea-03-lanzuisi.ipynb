{
 "cells": [
  {
   "cell_type": "markdown",
   "id": "bcca4140-dd8c-4c49-ad26-0ba9ee9612f8",
   "metadata": {},
   "source": [
    "# <span style=\"color:#8B0000;font-family:Papirus\">Tarea 3</span>"
   ]
  },
  {
   "cell_type": "markdown",
   "id": "5ce36298-83f9-4e1e-841d-d5305ffc1adf",
   "metadata": {},
   "source": [
    "### <span style=\"color:#8B0000;font-family:Papirus\">Jhonny Lanzuisi</span>"
   ]
  },
  {
   "cell_type": "markdown",
   "id": "b73ad54e-7adc-46c7-967b-3b796f300d1d",
   "metadata": {},
   "source": [
    "1. En 1895 G. Tarry dio la siguiente regla para salir de un laberinto: No volver a pasar por el lugar que condujo a una bifurcación por primera vez, a menos que no haya otra alternativa. Explicar la conexión entre la regla de Tarry y el algoritmo de búsqueda en profundidad. \n",
    "2. La versión de Kruskal del algoritmo voraz es la siguiente: elegir los lados en orden de peso creciente rechazando aquellos que al incluirlos completarían un ciclo. Demuestra que el método de Kruskal funciona."
   ]
  },
  {
   "cell_type": "code",
   "execution_count": null,
   "id": "9ddefcf6-ecd8-47fd-8d49-2b81ce750df3",
   "metadata": {},
   "outputs": [],
   "source": []
  }
 ],
 "metadata": {
  "kernelspec": {
   "display_name": "Python 3",
   "language": "python",
   "name": "python3"
  },
  "language_info": {
   "codemirror_mode": {
    "name": "ipython",
    "version": 3
   },
   "file_extension": ".py",
   "mimetype": "text/x-python",
   "name": "python",
   "nbconvert_exporter": "python",
   "pygments_lexer": "ipython3",
   "version": "3.7.10"
  }
 },
 "nbformat": 4,
 "nbformat_minor": 5
}
