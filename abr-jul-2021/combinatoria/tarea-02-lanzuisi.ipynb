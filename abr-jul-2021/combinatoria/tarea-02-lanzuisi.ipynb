{
 "cells": [
  {
   "cell_type": "markdown",
   "id": "49222f58-4762-4645-9a58-d7583a6c5215",
   "metadata": {},
   "source": [
    "# <span style=\"color:#8B0000;font-family:Papirus\">Tarea 2</span>"
   ]
  },
  {
   "cell_type": "markdown",
   "id": "3b2b247b-9ec4-4962-830b-0b1be54144bf",
   "metadata": {},
   "source": [
    "### <span style=\"color:#8B0000;font-family:Papirus\">Jhonny Lanzuisi</span>"
   ]
  },
  {
   "cell_type": "markdown",
   "id": "9a0b4a2b-01c4-40ba-a7a9-8ec046db2c1e",
   "metadata": {},
   "source": [
    "1. Sea $G$ un grafo bipartito con $n(G)$ impar. Demuestra que $G$ no es Hamiltoniano. \n",
    "2. Demuestra que $K_{2n + 1}$ se puede escribir como unión de $n$ ciclos Hamiltonianos de manera que ningún par de ciclos tiene lados en común."
   ]
  },
  {
   "cell_type": "markdown",
   "id": "018dbb95-60d4-48b2-adb8-b49ae4f3cde8",
   "metadata": {},
   "source": [
    "## Respuestas"
   ]
  },
  {
   "cell_type": "markdown",
   "id": "f99b9516-c358-49ab-836b-0da3ffd608d6",
   "metadata": {},
   "source": [
    "### Primera pregunta"
   ]
  },
  {
   "cell_type": "markdown",
   "id": "c0bc9897-3359-406b-bade-4c9d8c670200",
   "metadata": {},
   "source": [
    "Sea $G$ un grafo bipartito tal que $n(G)$ es impar.\n",
    "Sean $U,V$ los dos conjuntos que forman la bipartición de $G$.\n",
    "De existir un ciclo hamiltoniano en $G$ este tendría que ser,\n",
    "necesariamente, de la forma $(u_1,v_1,u_2,v_2,\\dots,u_n,v_n)$\n",
    "donde $u_i\\in U$ y $v_i\\in V$.\n",
    "\n",
    "Pero esto implica que han de haber $2n$ vértices,\n",
    "puesto que hay $n$ pares y el ciclo, por ser hamiltoniano,\n",
    "ha de visitar todos los vértices sin repetir. Como $n(G)$ es impar,\n",
    "esto es imposible.\n",
    "\n"
   ]
  },
  {
   "cell_type": "markdown",
   "id": "d4f09b4c-a0ba-40d1-926f-a38338c89e03",
   "metadata": {},
   "source": [
    "### Segunda pregunta"
   ]
  },
  {
   "cell_type": "markdown",
   "id": "814127c7-b1bc-4cab-b923-ebdc6c6de48b",
   "metadata": {},
   "source": [
    "Se puede utilizar la construcción de Walecki (1).\n",
    "Un ejemplo de como son los ciclos hamiltonianos de dicha construcción\n",
    "se puede ver en la siguiente imágen, que ilustra el ciclo inicial para $K_9$.\n",
    "\n",
    "![Un ciclo hamiltoniano para K_9](h-cycle.png \"Un ciclo hamiltoniano para K_9\")\n",
    "\n",
    "Llamemos a los vértices de $K_{2n+1}$ $u_0,u_1,\\dots,u_{2n}$ y sea\n",
    "$\\sigma$ la permutación cuya descomposición en ciclos disjuntos esta dada por:\n",
    "$$ (u_0)(u_1,u_2,\\dots,u_{2n}), $$\n",
    "esto es, $\\sigma$ deja fijo al primer elemento $u_0$ y rota en el sentido de\n",
    "las agujas del reloj a los demás vértices.\n",
    "\n",
    "Sea $H_1$ el siguiente ciclo hamiltoniano:\n",
    "$$\n",
    "H_1 = \n",
    "u_0 u_1 u_2 u_{2n} u_3 u_{2n-1}\n",
    "    \\dots u_n u_{n+2} u_{n+1} u_0.\n",
    "$$\n",
    "\n",
    "Entonces los ciclos $H_i$ dados por\n",
    "$H_i = \\sigma^{i-1}(H_1),\\; i=1,2,\\dots,n$\n",
    "forman la descomposición buscada de $K_{2n+1}$.\n",
    "\n",
    "La idea de la demostración es que al rotar\n",
    "el ciclo \"inicial\" $H_1$ en el sentido de las\n",
    "agujas del reloj se utiliza\n",
    "cada lado (del grafo completo) una sola vez.\n",
    "\n",
    "Esto es debido a que los lados diametralmente\n",
    "opuestos rotan la misma cantidad de vértices\n",
    "y, además, los lados que salen del vértice\n",
    "central unen a los vértices opuestos.\n",
    "Entonces se usan los vértices del grafo completo\n",
    "una vez, y, como se incluyen todas las rotaciones,\n",
    "se usan todos los lados.\n",
    "\n",
    "---\n",
    "(1) Alspach, Brian. (2008). The wonderful Walecki construction. Bulletin of the Institute of Combinatorics and its Applications. 52. URL: https://www.researchgate.net/publication/267666953_The_wonderful_Walecki_construction."
   ]
  }
 ],
 "metadata": {
  "kernelspec": {
   "display_name": "Python 3",
   "language": "python",
   "name": "python3"
  },
  "language_info": {
   "codemirror_mode": {
    "name": "ipython",
    "version": 3
   },
   "file_extension": ".py",
   "mimetype": "text/x-python",
   "name": "python",
   "nbconvert_exporter": "python",
   "pygments_lexer": "ipython3",
   "version": "3.8.5"
  }
 },
 "nbformat": 4,
 "nbformat_minor": 5
}