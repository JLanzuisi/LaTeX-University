{
 "cells": [
  {
   "cell_type": "markdown",
   "id": "49222f58-4762-4645-9a58-d7583a6c5215",
   "metadata": {},
   "source": [
    "# <span style=\"color:#8B0000;font-family:Papirus\">Tarea 2</span>"
   ]
  },
  {
   "cell_type": "markdown",
   "id": "3b2b247b-9ec4-4962-830b-0b1be54144bf",
   "metadata": {},
   "source": [
    "### <span style=\"color:#8B0000;font-family:Papirus\">Jhonny Lanzuisi</span>"
   ]
  },
  {
   "cell_type": "markdown",
   "id": "9a0b4a2b-01c4-40ba-a7a9-8ec046db2c1e",
   "metadata": {},
   "source": [
    "1. Sea $G$ un grafo bipartito con $n(G)$ impar. Demuestra que $G$ no es Hamiltoniano. \n",
    "2. Demuestra que $K_{2n + 1}$ se puede escribir como unión de $n$ ciclos Hamiltonianos de manera que ningún par de ciclos tiene lados en común."
   ]
  }
 ],
 "metadata": {
  "kernelspec": {
   "display_name": "Python 3",
   "language": "python",
   "name": "python3"
  },
  "language_info": {
   "codemirror_mode": {
    "name": "ipython",
    "version": 3
   },
   "file_extension": ".py",
   "mimetype": "text/x-python",
   "name": "python",
   "nbconvert_exporter": "python",
   "pygments_lexer": "ipython3",
   "version": "3.7.10"
  }
 },
 "nbformat": 4,
 "nbformat_minor": 5
}
