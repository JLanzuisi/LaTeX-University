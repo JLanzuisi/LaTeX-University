{
 "cells": [
  {
   "cell_type": "markdown",
   "metadata": {},
   "source": [
    "# Tarea 1"
   ]
  },
  {
   "cell_type": "markdown",
   "metadata": {},
   "source": [
    "### Jhonny Lanzuisi"
   ]
  },
  {
   "cell_type": "markdown",
   "metadata": {},
   "source": [
    "1. Para multiplicar dos números complejos se efectúan cuatro multiplicaciones de números reales, una adición y una sustracción. Demuestra que son suficientes tres multiplicaciones (en dos factores puede haber una suma). ¿Cuántas adiciones y sustracciones se efectúan con esta modificación?  \n",
    "2. Encuentra un método para calcular el producto de dos matrices reales de orden $4\\times 4$ que use menos de $64$ multiplicaciones de números reales."
   ]
  },
  {
   "cell_type": "markdown",
   "metadata": {},
   "source": [
    "# Respuestas\n",
    "(Nota: cuando probe abrir este notebook con `jupyter lab` las ecuaciones no se renderizaron correctamente,\n",
    "mientras que `jupyter notebook` si las muestra de forma correcta. Si hay algún error con las ecuaciones,\n",
    "quizás se resuelva no usando el lab.)"
   ]
  },
  {
   "cell_type": "markdown",
   "metadata": {},
   "source": [
    "## Primera pregunta\n",
    "\n",
    "La regla de multiplicación usual para números\n",
    "complejos es:\n",
    "\n",
    "$$ (a+bi) (c+di) = (ac - bd) + i(ad + bc) . $$\n",
    "\n",
    "Nos interesa conseguir las partes real:\n",
    "$\\Re = ac-bd$, y compleja: $\\Im = ad+bc$,\n",
    "con solo tres multiplicaciones.\n",
    "\n",
    "Esto podemos lograrlo observando que $\\Im$ es\n",
    "casi la expansión del producto $ T_0 = (a+b)(c+d)$\n",
    "excepto por los términos $ac$ y $bd$.\n",
    "Entonces, si hacemos $T_1=ac$ y $T_2=bd$,\n",
    "tenemos que\n",
    "\n",
    "$$ T_1 - T_2 = \\Re\\quad\\text{y}\\quad T_0-T_1-T_2 = \\Im.$$\n",
    "\n",
    "De esta forma se pueden hallar las partes real\n",
    "y compleja del producto efectuando solo las\n",
    "siguientes tres multiplicaciones de números reales:\n",
    "\n",
    "- $(a+b)(c+d)$\n",
    "- $ac$\n",
    "- $bd$\n",
    "\n",
    "Con este método se efectuando dos sustracciones\n",
    "y dos adiciones."
   ]
  },
  {
   "cell_type": "markdown",
   "metadata": {
    "pycharm": {
     "name": "#%% md\n"
    }
   },
   "source": [
    "## Segunda pregunta\n",
    "\n",
    "Se puede utilizar el algoritmo de\n",
    "Strassen\n",
    "[[1](https://en.wikipedia.org/wiki/Strassen_algorithm),[2](http://www-math.mit.edu/~djk/18.310/18.310F04/Matrix_%20Multiplication.html)].\n",
    "\n",
    "Dadas dos matrices $4\\times4$,\n",
    "\n",
    "$$ A = \\begin{pmatrix}a_{11} & a_{12} & a_{13} & a_{14}\\\\a_{21} & a_{22} & a_{23} & a_{24}\\\\a_{31} & a_{32} & a_{33} & a_{34}\\\\a_{41} & a_{42} & a_{43} & a_{44}\\end{pmatrix} $$\n",
    "\n",
    "y\n",
    "\n",
    "$$ B = \\begin{pmatrix}b_{11} & b_{12} & b_{13} & b_{14}\\\\b_{21} & b_{22} & b_{23} & b_{24}\\\\b_{31} & b_{32} & b_{33} & b_{34}\\\\b_{41} & b_{42} & b_{43} & b_{44}\\end{pmatrix}, $$\n",
    "\n",
    "podemos calcular su producto con menos de $64$\n",
    "multiplicaciones si podemos calcular el producto\n",
    "de dos matrices $2\\times2$ en menos de $8$\n",
    "multiplicaciones. Es decir, es suficiente\n",
    "con demostrar que se pueden multiplicar dos matrices\n",
    "$2\\times2$ en menos de $8$ multiplicaciones.\n",
    "\n",
    "Esto es debido a que las matrices pueden\n",
    "particionarse en $4$ submatrices de tamaño\n",
    "$2\\times2$, de la siguiente forma\n",
    "\n",
    "$$ A = \\begin{array}{cc|cc}a_{11} & a_{12} & a_{13} & a_{14}\\\\a_{21} & a_{22} & a_{23} & a_{24}\\\\\\hline a_{31} & a_{32} & a_{33} & a_{34}\\\\a_{41} & a_{42} & a_{43} & a_{44}\\end{array} = \\begin{pmatrix} A_{11} & A_{12}\\\\ A_{21} & A_{22}\\end{pmatrix} $$\n",
    "\n",
    "y\n",
    "\n",
    "$$ B = \\begin{array}{cc|cc}b_{11} & b_{12} & b_{13} & b_{14}\\\\b_{21} & b_{22} & b_{23} & b_{24}\\\\\\hline b_{31} & b_{32} & b_{33} & b_{34}\\\\b_{41} & b_{42} & b_{43} & b_{44}\\end{array} = \\begin{pmatrix} B_{11} & B_{12}\\\\ B_{21} & B_{22}\\end{pmatrix}. $$\n",
    "\n",
    "Luego, el producto de $A$ con $B$ viene dado por:\n",
    "\n",
    "$$ \\begin{pmatrix}A_{11}B_{11} + A_{12}B_{21} & A_{11}B_{12} + A_{12}B_{22}\\\\ A_{21}B_{11} + A_{22}B_{21} & A_{21}B_{12} + A_{22}B_{22}\\end{pmatrix}\\quad (1). $$\n",
    "\n",
    "Y de esta última ecuación se puede expresar\n",
    "el producto de una matriz $4\\times4$ como\n",
    "$8$ productos de matrices $2\\times2$.\n",
    "\n",
    "### Caso matrices $2\\times2$\n",
    "\n",
    "Consideremos ahora el producto de dos matrices\n",
    "$2\\times2$:\n",
    "\n",
    "$$ A = \\begin{pmatrix} A_{11} & A_{12}\\\\ A_{21} & A_{22}\\end{pmatrix} $$\n",
    "\n",
    "y\n",
    "\n",
    "$$ B = \\begin{pmatrix} B_{11} & B_{12}\\\\ B_{21} & B_{22}\\end{pmatrix}. $$\n",
    "\n",
    "Podemos obtener el producto de estas dos matrices,\n",
    "que luce igual que $(1)$,\n",
    "considerando los siguientes $7$ números reales:\n",
    "\n",
    "1. $M_1 = (A_{11}+A_{22})(B_{11}+B_{22})$\n",
    "2. $M_2 = (A_{21}+A_{22})B_{11}$\n",
    "3. $M_3 = A_{11}(B_{12}-B_{22})$\n",
    "4. $M_4 = A_{22}(B_{21}-B_{11})$\n",
    "5. $M_5 = (A_{11}+A_{12})B_{22}$\n",
    "6. $M_6 = (A_{21} - A_{11})(B_{11} + B_{12})$\n",
    "7. $M_7 = (A_{12} - A_{22})(B_{21}+B_{22})$\n",
    "\n",
    "Tenemos ahora que se puede expresar el producto de las dos\n",
    "matrices en función de estos $7$ números.\n",
    "\n",
    "$$ A\\times B = \\begin{pmatrix}M_1+M_4-M_5+M_7 & M_3+M_5\\\\ M_2+M_4 & M_1-M_2+M_3+M_6\\end{pmatrix}$$\n",
    "\n",
    "### Conclusión\n",
    "\n",
    "La expresión anterior para el producto de $A\\times B$ en función\n",
    "de las constantes $M_i$ solo involucra sumas, por lo que las\n",
    "multiplicaciones involucradas son aquellas que aparecen\n",
    "en la defición de cada $M_i$, y como solo hay una multiplicación\n",
    "por cada $M_i$ se concluye que el producto de dos matrices\n",
    "$2\\times2$ se puede calcular con 7 multiplicaciones de números reales.\n",
    "\n",
    "Pero entonces, volviendo a $(1)$, tenemos que el producto de dos\n",
    "matrices $4\\times4$ se puede calcular con $7\\times8=56$\n",
    "multiplicaciones de números reales pues hay un total de\n",
    "$8$ matrices $2\\times2$."
   ]
  }
 ],
 "metadata": {
  "kernelspec": {
   "display_name": "venv",
   "language": "python",
   "name": "venv"
  },
  "language_info": {
   "codemirror_mode": {
    "name": "ipython",
    "version": 3
   },
   "file_extension": ".py",
   "mimetype": "text/x-python",
   "name": "python",
   "nbconvert_exporter": "python",
   "pygments_lexer": "ipython3",
   "version": "3.9.5"
  }
 },
 "nbformat": 4,
 "nbformat_minor": 4
}
