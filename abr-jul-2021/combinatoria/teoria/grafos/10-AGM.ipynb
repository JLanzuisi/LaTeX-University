{
 "cells": [
  {
   "cell_type": "markdown",
   "id": "476eac4b-ff6f-4a4d-a1dc-fd17763b7884",
   "metadata": {},
   "source": [
    "# <span style=\"color:#8B0000;font-family:Papirus\">Árboles generadores</span>"
   ]
  },
  {
   "cell_type": "markdown",
   "id": "b8db72c6-f490-44bd-a369-2d264c7865fa",
   "metadata": {},
   "source": [
    "> <span style=\"color:#8B0000;font-family:Papirus\">**Problema:**</span> Para llevar conexión a internet a un conjunto de ciudades, se quiere determinar la manera más económica de distribuir los cables conociendo el costo de conectar algunos de los pares de ciudades. "
   ]
  },
  {
   "cell_type": "markdown",
   "id": "454b7afd-5698-466c-b062-72b10a0c716f",
   "metadata": {},
   "source": [
    "Si modelamos la red con un grafo $G$ indicando el costo de cada conexión, obtenemos lo que se conoce como **grafo ponderado** (o con peso). Los lados llevan como etiqueta el costo de la conexión que representan. Para este problema queremos que todas las ciudades estén conectadas (conexidad) y para evitar desperdicios, evitamos los ciclos. Es decir, queremos hallar un árbol como subgrafo de $G$ que tenga todos los vértices y que además represente el costo mínimo de la red. Los pesos de los lados vienen dados por una función $p$, y lo que se quiere es hallar $T$ que minimice $\\sum_{e\\in E(T)}p(e)$."
   ]
  },
  {
   "cell_type": "code",
   "execution_count": 13,
   "id": "cebf9e57-2d56-4237-b17f-8a688a9aad80",
   "metadata": {
    "jupyter": {
     "source_hidden": true
    },
    "tags": []
   },
   "outputs": [],
   "source": [
    "import networkx as nx\n",
    "import matplotlib.pyplot as plt\n",
    "%matplotlib inline"
   ]
  },
  {
   "cell_type": "code",
   "execution_count": 14,
   "id": "75b5e735-0d2e-4f62-87a1-2a8d7191527a",
   "metadata": {
    "jupyter": {
     "source_hidden": true
    },
    "tags": []
   },
   "outputs": [
    {
     "data": {
      "text/plain": [
       "{(0, 1): Text(0.7499999888241293, 0.433012741974907, '4'),\n",
       " (0, 2): Text(0.24999998137354879, 0.4330127121725851, '8'),\n",
       " (0, 3): Text(1.4901160971803051e-08, -1.9206817775722963e-08, '5'),\n",
       " (0, 4): Text(0.25000005587935364, -0.43301269296576733, '2'),\n",
       " (1, 2): Text(-2.9802321943606103e-08, 0.8660254296429223, '7'),\n",
       " (1, 3): Text(-0.24999999627470976, 0.4330126982635194, '6'),\n",
       " (2, 4): Text(-0.49999996274709757, -5.297752070365647e-09, '5'),\n",
       " (3, 4): Text(-0.7499999292194854, -0.43301273667715495, '6'),\n",
       " (3, 5): Text(-0.2500000260770317, -0.43301273667715495, '8')}"
      ]
     },
     "execution_count": 14,
     "metadata": {},
     "output_type": "execute_result"
    },
    {
     "data": {
      "image/png": "[encoded data removed]",
      "text/plain": [
       "<Figure size 432x288 with 1 Axes>"
      ]
     },
     "metadata": {},
     "output_type": "display_data"
    }
   ],
   "source": [
    "g = nx.Graph()\n",
    "g.add_edges_from([(0, 1) , (0, 2), (0, 3), (0, 4), (1, 2), \n",
    "                  (1, 3), (2, 4), (3, 4), (3, 5)])\n",
    "etiq = {(0, 1): '4', (0, 2): '8', (0, 3): '5', (0, 4): '2', (1, 2): '7', \n",
    "        (1, 3): '6', (2, 4): '5', (3, 4): '6', (3, 5): '8'}\n",
    "\n",
    "nx.draw(g, pos = nx.circular_layout(g), node_size=50)\n",
    "nx.draw_networkx_edge_labels(g, pos=nx.circular_layout(g), edge_labels=etiq)"
   ]
  },
  {
   "cell_type": "markdown",
   "id": "6fde1a4a-a964-440f-ba7a-b349e91fbfdf",
   "metadata": {},
   "source": [
    "En general, dado un grafo conexo $G$, decimos que un árbol $T$ que es subgrafo de $G$, es un **árbol generador** de $G$ si tiene todos los vértices de $G$. Para un grafo ponderado, un árbol generador tal que la suma de los pesos de sus lados es mínima, se llama **árbol generador minimal** (AGM). "
   ]
  },
  {
   "cell_type": "markdown",
   "id": "6359e3c5-0ab9-4012-9b14-12c2f3b69584",
   "metadata": {},
   "source": [
    "¿Qué ocurre si usamos un algoritmo voraz para buscar un AGM en un grafo conexo dado? Es decir, partiendo de un vértice $x$, elige el lado con menor peso que incide en $x$, digamos $e = xy$, y continúa con el lado con menor peso que incide en $y$, si no hay otro lado que incida en $x$ con menor peso. Así sucesivamente hasta agotar los vértices. ¿Esto nos dá un AGM?"
   ]
  },
  {
   "cell_type": "markdown",
   "id": "bc77eb88-955d-4a0e-8576-db746a8f9afe",
   "metadata": {},
   "source": [
    "Supongamos que $G$ es un grafo conexo con $n$ vértices y ponderado con la función $p$, $T$ es un árbol generador de $G$ obtenido con el algoritmo anterior y $U$ es también un árbol generador de $G$.\n",
    "\n",
    "1. Enumera los lados de $T$ siguiendo el orden del algoritmo: $e_1$, $e_2$, $e_3$, $\\dots$, $e_{n - 1}$.\n",
    "2. Sea $e_k = xy$ el primer lado de $T$ que no está en $E(U)$.\n",
    "3. Llama $S$ al conjunto de vértices del sub-árbol de $T$ con vértices $e_1$, $e_2$, $e_3$, $\\dots$, $e_{k - 1}$.\n",
    "4. Entonces, por ejemplo, $x\\in S$, $y\\not\\in S$.\n",
    "5. Como $U$ genera $G$, existen un camino en $U$ de $x$ a $y$, y un lado $\\bar{e}$ en ese camino con un vértice $z$ en $S$ y otro fuera de $S$.\n",
    "6. Al construir $T$, estando en $z$ **no se eligió** $\\bar{e}$.\n",
    "7. Entonces $p(e_k)\\leq p(\\bar{e})$.\n",
    "8. Si $\\bar{e}$ está en $T$, tiene que ser algún $e_j$ con $j > k$.\n",
    "9. Elimina $\\bar{e}$ de $U$ y cambialo por $e_k$.\n",
    "10. Llama $U_1$ al árbol que resulta.\n",
    "11. $U_1$ también genera $T$ y además \n",
    "$\\sum_{e\\in E(U_1)}p(e) = \\sum_{e\\in E(U)}p(e) - p(\\bar{e}) + p(e_k)\\leq \\sum_{e\\in E(U)}p(e)$\n",
    "12. Obtuvimos otro árbol generador con menor peso y que tiene el lado $e_k$.\n",
    "13. Siguiendo así, obtienes $U_1$, $U_2$, $U_3$, $\\dots$ árboles generadores con peso cada vez menor y con cada vez más lados de $T$.\n",
    "14. Eventualmente obtrendrás $U_m = T$ y así $\\sum_{e\\in E(T)}p(e)\\leq \\sum_{e\\in E(U)}p(e)$."
   ]
  },
  {
   "cell_type": "markdown",
   "id": "c96c238b-4c8f-4cd8-ade7-b91b7f3e9e6e",
   "metadata": {},
   "source": [
    "> <span style=\"color:#8B0000;font-family:Papirus\">**Teorema:**</span> Si $T$ es un árbol generador de un grafo ponderado (conexo) $G$ obtenido mediante el algoritmo voraz, entonces $T$ es un AGM para $G$. "
   ]
  },
  {
   "cell_type": "markdown",
   "id": "62181cee-a0ff-4cb3-84b5-15bc3df4084e",
   "metadata": {},
   "source": [
    "¿Cuál es la eficiencia de este algoritmo? Para verlo, calculemos la cantidad de comparaciones usando una tabla:"
   ]
  },
  {
   "cell_type": "markdown",
   "id": "6a94556f-7552-482d-988c-197b8c78e6ca",
   "metadata": {},
   "source": [
    "|   $I$    |   $II$   |   $III$   |\n",
    "|:--------:|:--------:|:---------:|\n",
    "|    $x$   |   $y$    |  $p(xy)$  |\n",
    "| $\\vdots$ | $\\vdots$ |  $\\vdots$ |"
   ]
  },
  {
   "cell_type": "markdown",
   "id": "ff0d59b2-c5a7-4a94-8047-8843c69c047c",
   "metadata": {},
   "source": [
    "1. La columna $I$ contiene los vértices fuera de $S$.\n",
    "2. Para cada $x$ de la columna $I$, la columna $II$ contiene un vértice $y$ tal que $xy$ es un lado de costo mínimo con $y\\in S$.\n",
    "3. La columna $III$ contiene el peso de $xy$.\n",
    "4. En el paso $i$ del algoritmo, $|S| = i$ y hay $n - i$ vértices en la columna $I$.\n",
    "5. Ahora hay que hallar el mínimo $p(x_0y_0)$ en la columna $III$: $n - i - 1$ comparaciones.\n",
    "6. El lado $x_0y_0$ agrega $x_0$ a $S$, hay que actualizar la tabla. \n",
    "7. Entonces ha que comprobar si $p(xx_0) < p(xy)$ para cada uno de los $n - i - 1$ posibles $x$ de la columna $I$.\n",
    "8. Eso implica $n - i - 1$ comparaciones más.\n",
    "9. En total son $\\sum_{i = 1}^{n - 1}2(n - i - 1) = (n - 1)(n - 2)$"
   ]
  },
  {
   "cell_type": "markdown",
   "id": "89f93901-9fc4-4198-8045-2dd18d16dcc5",
   "metadata": {},
   "source": [
    "Por lo tanto la eficiencia del algoritmo voraz para construir un AGM de un árbol ponderado con $n$ vértices es $O(n^2)$."
   ]
  },
  {
   "cell_type": "code",
   "execution_count": null,
   "id": "4d614598-3aef-4a65-8dfc-970a83d1f77a",
   "metadata": {
    "jupyter": {
     "source_hidden": true
    }
   },
   "outputs": [],
   "source": []
  }
 ],
 "metadata": {
  "kernelspec": {
   "display_name": "Python 3",
   "language": "python",
   "name": "python3"
  },
  "language_info": {
   "codemirror_mode": {
    "name": "ipython",
    "version": 3
   },
   "file_extension": ".py",
   "mimetype": "text/x-python",
   "name": "python",
   "nbconvert_exporter": "python",
   "pygments_lexer": "ipython3",
   "version": "3.7.10"
  }
 },
 "nbformat": 4,
 "nbformat_minor": 5
}
