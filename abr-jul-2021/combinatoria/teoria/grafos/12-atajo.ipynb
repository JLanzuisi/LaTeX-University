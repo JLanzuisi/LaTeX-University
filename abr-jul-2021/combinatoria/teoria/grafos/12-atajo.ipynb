{
 "cells": [
  {
   "cell_type": "markdown",
   "id": "fcd7f522-e788-4328-8051-103323bd8e8a",
   "metadata": {},
   "source": [
    "# <span style=\"color:#8B0000;font-family:Papirus\">BEA para el problema del camino más corto</span>"
   ]
  },
  {
   "cell_type": "markdown",
   "id": "f38678d8-dbd0-45c6-840f-310c3cb3aaf2",
   "metadata": {},
   "source": [
    "Veamos una aplicación del algoritmo de BEA para hallar el camino *más corto* entre dos vértices dados de un grafo ponderado conexo. Supongamos que queremos hallar el camino más corto de un vértice $v$ a otro $w$ en el grafo ponderado $G$, con peso $p$. Aquí la longitud de un camino es la suma de los pesos de sus lados."
   ]
  },
  {
   "cell_type": "markdown",
   "id": "add81b9f-8ae7-4aac-be41-9f63dc4b2f43",
   "metadata": {},
   "source": [
    "La **estrategia** se basa en lo siguiente: \n",
    "\n",
    "1. Supongamos que ya hemos determinado que la longitud del camino más corto de $v$ a un vértice intermedio $z$ es $l(z)$.\n",
    "2. Sea $y$ un vecino de $z$ en $G$ del cual tenemos una estimación provisional $l(y)$ de la longitud de un camino de $v$ a $y$.\n",
    "3. Cambia $l(y)$ por el mínimo entre $l(y)$ y $l(z) + p(zy)$."
   ]
  },
  {
   "cell_type": "markdown",
   "id": "719c3c27-227e-492d-bc5d-4ed6ed3db347",
   "metadata": {},
   "source": [
    "¿Cómo interviene la BEA en esta estrategia? Construiremos un árbol $T$ con raíz en $v$ cuyos lados producen el camino más corto de $v$ a **cualquier otro vértice**.\n",
    "\n",
    "1. Define $l(v) = 0$ (definitiva) y $l(x)$ un número grande (provisional), para $x\\not=v$.\n",
    "2. Sea $w$ el último vértice con etiqueta definitiva $l(w)$.\n",
    "3. Para cada vecino $y$ de $w$ con etiqueta provisional, calculamos $l(y)$ como en la estrategia.\n",
    "4. Elige el vértice de 3 con etiqueta mínima, llámalo $u$, haz definitiva $l(u)$ y agrega $u$ a $T$ con el lado $zu$ si $z$ es el vértice usado para hacer definitiva $l(u)$.\n",
    "5. Ahora haz $w = u$ y vuelve al paso 2.\n",
    "6. El proceso termina cuando todos los vértices tengan etiqueta definitiva."
   ]
  },
  {
   "attachments": {
    "d7877562-f6df-442d-886b-21fd306561d3.PNG": {
     "image/png": "[encoded data removed]"
    }
   },
   "cell_type": "markdown",
   "id": "8c8918a9-71e7-4c75-8e02-529829bd27a4",
   "metadata": {},
   "source": [
    "![ponderado.PNG](attachment:d7877562-f6df-442d-886b-21fd306561d3.PNG)"
   ]
  },
  {
   "cell_type": "code",
   "execution_count": null,
   "id": "9629ddb0-4bd4-44ec-a63e-144a0320c70f",
   "metadata": {},
   "outputs": [],
   "source": []
  }
 ],
 "metadata": {
  "kernelspec": {
   "display_name": "Python 3",
   "language": "python",
   "name": "python3"
  },
  "language_info": {
   "codemirror_mode": {
    "name": "ipython",
    "version": 3
   },
   "file_extension": ".py",
   "mimetype": "text/x-python",
   "name": "python",
   "nbconvert_exporter": "python",
   "pygments_lexer": "ipython3",
   "version": "3.7.10"
  }
 },
 "nbformat": 4,
 "nbformat_minor": 5
}
